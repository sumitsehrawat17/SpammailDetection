{
 "cells": [
  {
   "cell_type": "code",
   "execution_count": 1,
   "id": "f05f6178-768f-4cde-9b0e-c6bba1efc422",
   "metadata": {},
   "outputs": [],
   "source": [
    "import pandas as pd\n",
    "import numpy as np\n",
    "import re\n",
    "from sklearn.feature_extraction.text import CountVectorizer\n",
    "from sklearn.naive_bayes import MultinomialNB\n",
    "from sklearn.model_selection import train_test_split\n",
    "from sklearn.metrics import accuracy_score as a_s\n",
    "from sklearn.metrics import ConfusionMatrixDisplay as cmd\n",
    "from sklearn.metrics import confusion_matrix as cm"
   ]
  },
  {
   "cell_type": "code",
   "execution_count": 2,
   "id": "233e98a2-8524-4566-8275-cd16b8dcb604",
   "metadata": {},
   "outputs": [
    {
     "name": "stdout",
     "output_type": "stream",
     "text": [
      "<class 'pandas.core.frame.DataFrame'>\n",
      "RangeIndex: 5572 entries, 0 to 5571\n",
      "Data columns (total 5 columns):\n",
      " #   Column      Non-Null Count  Dtype \n",
      "---  ------      --------------  ----- \n",
      " 0   class       5572 non-null   object\n",
      " 1   message     5572 non-null   object\n",
      " 2   Unnamed: 2  50 non-null     object\n",
      " 3   Unnamed: 3  12 non-null     object\n",
      " 4   Unnamed: 4  6 non-null      object\n",
      "dtypes: object(5)\n",
      "memory usage: 217.8+ KB\n"
     ]
    },
    {
     "data": {
      "text/html": [
       "<div>\n",
       "<style scoped>\n",
       "    .dataframe tbody tr th:only-of-type {\n",
       "        vertical-align: middle;\n",
       "    }\n",
       "\n",
       "    .dataframe tbody tr th {\n",
       "        vertical-align: top;\n",
       "    }\n",
       "\n",
       "    .dataframe thead th {\n",
       "        text-align: right;\n",
       "    }\n",
       "</style>\n",
       "<table border=\"1\" class=\"dataframe\">\n",
       "  <thead>\n",
       "    <tr style=\"text-align: right;\">\n",
       "      <th></th>\n",
       "      <th>class</th>\n",
       "      <th>message</th>\n",
       "    </tr>\n",
       "  </thead>\n",
       "  <tbody>\n",
       "    <tr>\n",
       "      <th>0</th>\n",
       "      <td>ham</td>\n",
       "      <td>Go until jurong point, crazy.. Available only ...</td>\n",
       "    </tr>\n",
       "    <tr>\n",
       "      <th>1</th>\n",
       "      <td>ham</td>\n",
       "      <td>Ok lar... Joking wif u oni...</td>\n",
       "    </tr>\n",
       "    <tr>\n",
       "      <th>2</th>\n",
       "      <td>spam</td>\n",
       "      <td>Free entry in 2 a wkly comp to win FA Cup fina...</td>\n",
       "    </tr>\n",
       "    <tr>\n",
       "      <th>3</th>\n",
       "      <td>ham</td>\n",
       "      <td>U dun say so early hor... U c already then say...</td>\n",
       "    </tr>\n",
       "    <tr>\n",
       "      <th>4</th>\n",
       "      <td>ham</td>\n",
       "      <td>Nah I don't think he goes to usf, he lives aro...</td>\n",
       "    </tr>\n",
       "  </tbody>\n",
       "</table>\n",
       "</div>"
      ],
      "text/plain": [
       "  class                                            message\n",
       "0   ham  Go until jurong point, crazy.. Available only ...\n",
       "1   ham                      Ok lar... Joking wif u oni...\n",
       "2  spam  Free entry in 2 a wkly comp to win FA Cup fina...\n",
       "3   ham  U dun say so early hor... U c already then say...\n",
       "4   ham  Nah I don't think he goes to usf, he lives aro..."
      ]
     },
     "execution_count": 2,
     "metadata": {},
     "output_type": "execute_result"
    }
   ],
   "source": [
    "data = pd.read_csv('https://raw.githubusercontent.com/amankharwal/SMS-Spam-Detection/master/spam.csv',encoding= 'latin-1')\n",
    "data.head()\n",
    "data.info()\n",
    "df = data.drop(['Unnamed: 2','Unnamed: 3','Unnamed: 4'],axis = 1)\n",
    "df.head()"
   ]
  },
  {
   "cell_type": "code",
   "execution_count": 3,
   "id": "6ece5756-9e67-4f52-8aeb-09c667de06f6",
   "metadata": {},
   "outputs": [
    {
     "data": {
      "text/plain": [
       "class      0\n",
       "message    0\n",
       "dtype: int64"
      ]
     },
     "execution_count": 3,
     "metadata": {},
     "output_type": "execute_result"
    }
   ],
   "source": [
    "df.head()\n",
    "df['class'] = df['class'].replace({'ham':0,'spam':1})\n",
    "#df.head()\n",
    "df.isna().sum()"
   ]
  },
  {
   "cell_type": "markdown",
   "id": "fb432471-7b1a-40aa-b6f1-106128fa2194",
   "metadata": {},
   "source": [
    "# cleaning text and preparing procedures for it"
   ]
  },
  {
   "cell_type": "code",
   "execution_count": 4,
   "id": "938e0a02-7b6e-4d36-9961-dfcaf3a01bfe",
   "metadata": {},
   "outputs": [],
   "source": [
    "def clean_text(text:str)->str:\n",
    "    \"\"\" this function is cleaning the text\n",
    "    eg. removing unnecessary spaces and digits\n",
    "    converting all characters into lower capes\n",
    "    returning a string of clean text\"\"\"\n",
    "    text = str(text)\n",
    "    text = text.lower()\n",
    "    text = text.strip()\n",
    "    text = text.replace(',','')\n",
    "    text = text.replace('.','')\n",
    "    text = re.sub('\\d+',' ',text)\n",
    "    text = re.sub('\\d+',' ',text)\n",
    "    text = re.sub(' \\s+',' ',text)\n",
    "    return text\n",
    "    "
   ]
  },
  {
   "cell_type": "code",
   "execution_count": 5,
   "id": "25f7c016-5cc0-424b-ba49-eb245f0867f9",
   "metadata": {},
   "outputs": [],
   "source": [
    "df.message = df.message.apply(clean_text)\n",
    "y = np.array(df['class'])"
   ]
  },
  {
   "cell_type": "markdown",
   "id": "ff210f31-a3ad-4c0c-9529-ff63d75c7682",
   "metadata": {},
   "source": [
    "# using countvector"
   ]
  },
  {
   "cell_type": "code",
   "execution_count": 6,
   "id": "d9926c4e-7501-4677-971a-969074c01170",
   "metadata": {},
   "outputs": [],
   "source": [
    "cv = CountVectorizer()\n",
    "X = cv.fit_transform(np.array(df.message))\n",
    "#print(X)\n",
    "train_x,test_x,train_y,test_y = train_test_split(X,y,test_size =0.33,random_state = 42)"
   ]
  },
  {
   "cell_type": "markdown",
   "id": "5372601b-ffd7-4bc2-9408-780644d936b5",
   "metadata": {},
   "source": [
    "# fitting the model with MultinomialNB"
   ]
  },
  {
   "cell_type": "code",
   "execution_count": 7,
   "id": "f66b5a8f-54d5-4345-b2bf-964d1a04cce5",
   "metadata": {},
   "outputs": [
    {
     "data": {
      "text/plain": [
       "MultinomialNB()"
      ]
     },
     "execution_count": 7,
     "metadata": {},
     "output_type": "execute_result"
    }
   ],
   "source": [
    "model_ = MultinomialNB()\n",
    "model_.fit(train_x,train_y)\n",
    "#test_x = test_x.reshape(-1,1)"
   ]
  },
  {
   "cell_type": "code",
   "execution_count": 8,
   "id": "9efba6d4-173b-43bf-a399-af2a99aa0bfa",
   "metadata": {},
   "outputs": [],
   "source": [
    "# accuracy  and confusion matrix"
   ]
  },
  {
   "cell_type": "code",
   "execution_count": 9,
   "id": "2f3281d4-8a61-41ae-8f03-40d48a0a4da7",
   "metadata": {},
   "outputs": [
    {
     "name": "stdout",
     "output_type": "stream",
     "text": [
      "accuracy score is : 0.9733550842849374\n"
     ]
    },
    {
     "data": {
      "text/plain": [
       "<sklearn.metrics._plot.confusion_matrix.ConfusionMatrixDisplay at 0x2522f98be20>"
      ]
     },
     "execution_count": 9,
     "metadata": {},
     "output_type": "execute_result"
    },
    {
     "data": {
      "image/png": "[encoded data removed]",
      "text/plain": [
       "<Figure size 432x288 with 2 Axes>"
      ]
     },
     "metadata": {
      "needs_background": "light"
     },
     "output_type": "display_data"
    }
   ],
   "source": [
    "pred = model_.predict(test_x)\n",
    "print('accuracy score is :',a_s(test_y,pred))\n",
    "\n",
    "cmd(cm(test_y,pred)).plot()\n"
   ]
  },
  {
   "cell_type": "markdown",
   "id": "fb6262e0-0c7f-42a4-b192-46f84ee8d8d2",
   "metadata": {},
   "source": [
    "# now we ready to check wether a mail is spam or not"
   ]
  },
  {
   "cell_type": "code",
   "execution_count": 11,
   "id": "ea484d57-6d6a-41c5-90d6-d2fef836ce53",
   "metadata": {},
   "outputs": [
    {
     "name": "stdin",
     "output_type": "stream",
     "text": [
      "Enter Message :  hii, sumit\n"
     ]
    },
    {
     "name": "stdout",
     "output_type": "stream",
     "text": [
      "Not Spam\n"
     ]
    }
   ],
   "source": [
    "new_mail = str(input('Enter Message : '))\n",
    "#print(cv.transform([new_mail]))\n",
    "ans = model_.predict(cv.transform([new_mail]))\n",
    "if ans == 1:\n",
    "    print('Spam')\n",
    "    \n",
    "else:\n",
    "    \n",
    "    print('Not Spam')"
   ]
  }
 ],
 "metadata": {
  "kernelspec": {
   "display_name": "Python 3",
   "language": "python",
   "name": "python3"
  },
  "language_info": {
   "codemirror_mode": {
    "name": "ipython",
    "version": 3
   },
   "file_extension": ".py",
   "mimetype": "text/x-python",
   "name": "python",
   "nbconvert_exporter": "python",
   "pygments_lexer": "ipython3",
   "version": "3.9.4"
  }
 },
 "nbformat": 4,
 "nbformat_minor": 5
}
